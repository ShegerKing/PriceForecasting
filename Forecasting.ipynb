{
  "nbformat": 4,
  "nbformat_minor": 0,
  "metadata": {
    "colab": {
      "name": "Forecasting.ipynb",
      "version": "0.3.2",
      "provenance": [],
      "include_colab_link": true
    },
    "kernelspec": {
      "name": "python3",
      "display_name": "Python 3"
    }
  },
  "cells": [
    {
      "cell_type": "markdown",
      "metadata": {
        "id": "view-in-github",
        "colab_type": "text"
      },
      "source": [
        "<a href=\"https://colab.research.google.com/github/ShegerKing/PriceForecasting/blob/master/Forecasting.ipynb\" target=\"_parent\"><img src=\"https://colab.research.google.com/assets/colab-badge.svg\" alt=\"Open In Colab\"/></a>"
      ]
    },
    {
      "metadata": {
        "id": "JQp6IiX_UpVR",
        "colab_type": "code",
        "outputId": "97e10d8a-9b1f-42d0-b92c-7224343b985a",
        "colab": {
          "base_uri": "https://localhost:8080/",
          "height": 35
        }
      },
      "cell_type": "code",
      "source": [
        "from google.colab import drive\n",
        "drive.mount(\"/content/drive\")"
      ],
      "execution_count": 0,
      "outputs": [
        {
          "output_type": "stream",
          "text": [
            "Drive already mounted at /content/drive; to attempt to forcibly remount, call drive.mount(\"/content/drive\", force_remount=True).\n"
          ],
          "name": "stdout"
        }
      ]
    },
    {
      "metadata": {
        "id": "2T4hWl_MUnf6",
        "colab_type": "code",
        "colab": {}
      },
      "cell_type": "code",
      "source": [
        "import numpy as np\n",
        "import pandas as pd\n",
        "import tensorflow as tf\n",
        "from tensorflow.contrib import rnn\n",
        "import matplotlib.pyplot as plt\n",
        "import math\n",
        "import time\n",
        "from sklearn.preprocessing import StandardScaler\n",
        "from sklearn.preprocessing import MinMaxScaler\n",
        "from sklearn.model_selection import train_test_split\n",
        "from keras.models import Sequential\n",
        "from keras.layers import LSTM\n",
        "from keras.layers import Dense\n",
        "from keras.layers import TimeDistributed\n",
        "from keras.layers import RepeatVector\n",
        "from keras.layers import Dropout\n",
        "from keras import optimizers\n",
        "\n",
        "%matplotlib inline"
      ],
      "execution_count": 0,
      "outputs": []
    },
    {
      "metadata": {
        "id": "cBr9Wwg868-B",
        "colab_type": "text"
      },
      "cell_type": "markdown",
      "source": [
        "   Our goal hear is to use an LSTM network to do time series forcasting with multiple features. LSTM's have been very sucessfull in the field of language processing and translation. The aim is get a feel for how good an RNN network is in making price forecasting. We will start of with a data that only includes market prices as well as add other technical instruments to predcit future values. Later one, we will be scarping data from news articles and do sentiment analysis along with the market data.\n",
        "\n",
        "\n",
        "For the market data we are using the price of apple stock from 1984 to 2014. "
      ]
    },
    {
      "metadata": {
        "id": "vbpvCV0wUtXl",
        "colab_type": "code",
        "outputId": "7a171f43-04c1-4090-8e5b-353667699efe",
        "colab": {
          "base_uri": "https://localhost:8080/",
          "height": 233
        }
      },
      "cell_type": "code",
      "source": [
        "\n",
        "df = pd.read_csv('/content/drive/My Drive/appl.csv')\n",
        "df = df.drop(['OpenInt', 'High', 'Low', 'Close'],1)\n",
        "df.set_index('Date', inplace = True)\n",
        "#A bit of feature enginerring to help the model learn better\n",
        "df['ema_diff'] = df[['Open']].ewm(span = 20, adjust = False).mean()  - df[['Open']].ewm(span = 50, adjust = False).mean()\n",
        "\n",
        "df.head(5)"
      ],
      "execution_count": 0,
      "outputs": [
        {
          "output_type": "execute_result",
          "data": {
            "text/html": [
              "<div>\n",
              "<style scoped>\n",
              "    .dataframe tbody tr th:only-of-type {\n",
              "        vertical-align: middle;\n",
              "    }\n",
              "\n",
              "    .dataframe tbody tr th {\n",
              "        vertical-align: top;\n",
              "    }\n",
              "\n",
              "    .dataframe thead th {\n",
              "        text-align: right;\n",
              "    }\n",
              "</style>\n",
              "<table border=\"1\" class=\"dataframe\">\n",
              "  <thead>\n",
              "    <tr style=\"text-align: right;\">\n",
              "      <th></th>\n",
              "      <th>Open</th>\n",
              "      <th>Volume</th>\n",
              "      <th>ema_diff</th>\n",
              "    </tr>\n",
              "    <tr>\n",
              "      <th>Date</th>\n",
              "      <th></th>\n",
              "      <th></th>\n",
              "      <th></th>\n",
              "    </tr>\n",
              "  </thead>\n",
              "  <tbody>\n",
              "    <tr>\n",
              "      <th>1984-09-07</th>\n",
              "      <td>0.42388</td>\n",
              "      <td>23220030</td>\n",
              "      <td>0.000000</td>\n",
              "    </tr>\n",
              "    <tr>\n",
              "      <th>1984-09-10</th>\n",
              "      <td>0.42388</td>\n",
              "      <td>18022532</td>\n",
              "      <td>0.000000</td>\n",
              "    </tr>\n",
              "    <tr>\n",
              "      <th>1984-09-11</th>\n",
              "      <td>0.42516</td>\n",
              "      <td>42498199</td>\n",
              "      <td>0.000072</td>\n",
              "    </tr>\n",
              "    <tr>\n",
              "      <th>1984-09-12</th>\n",
              "      <td>0.42902</td>\n",
              "      <td>37125801</td>\n",
              "      <td>0.000350</td>\n",
              "    </tr>\n",
              "    <tr>\n",
              "      <th>1984-09-13</th>\n",
              "      <td>0.43927</td>\n",
              "      <td>57822062</td>\n",
              "      <td>0.001165</td>\n",
              "    </tr>\n",
              "  </tbody>\n",
              "</table>\n",
              "</div>"
            ],
            "text/plain": [
              "               Open    Volume  ema_diff\n",
              "Date                                   \n",
              "1984-09-07  0.42388  23220030  0.000000\n",
              "1984-09-10  0.42388  18022532  0.000000\n",
              "1984-09-11  0.42516  42498199  0.000072\n",
              "1984-09-12  0.42902  37125801  0.000350\n",
              "1984-09-13  0.43927  57822062  0.001165"
            ]
          },
          "metadata": {
            "tags": []
          },
          "execution_count": 204
        }
      ]
    },
    {
      "metadata": {
        "id": "acHxmV76U1dw",
        "colab_type": "code",
        "colab": {}
      },
      "cell_type": "code",
      "source": [
        "#scale the data\n",
        "data = df.values\n",
        "scaler = MinMaxScaler()\n",
        "transform= scaler.fit_transform(data[:, 1].reshape(-1, 1))\n",
        "\n",
        "data[:, 1] = transform.reshape(-1)\n"
      ],
      "execution_count": 0,
      "outputs": []
    },
    {
      "metadata": {
        "id": "FmY1lKHylpvM",
        "colab_type": "code",
        "outputId": "9c5a1c41-224f-4c72-edab-169163162b8f",
        "colab": {
          "base_uri": "https://localhost:8080/",
          "height": 35
        }
      },
      "cell_type": "code",
      "source": [
        "#split data into train and test\n",
        "train = data[: int(0.85 * len(data))]\n",
        "test = data[int(0.85*len(data)) :]\n",
        "print(train.shape, test.shape)\n"
      ],
      "execution_count": 0,
      "outputs": [
        {
          "output_type": "stream",
          "text": [
            "(7109, 3) (1255, 3)\n"
          ],
          "name": "stdout"
        }
      ]
    },
    {
      "metadata": {
        "id": "hshs891VowlD",
        "colab_type": "code",
        "colab": {}
      },
      "cell_type": "code",
      "source": [
        "#define the number of days to forecast\n",
        "n_out = 7 #week forecast"
      ],
      "execution_count": 0,
      "outputs": []
    },
    {
      "metadata": {
        "id": "7F-CVsOw4QRl",
        "colab_type": "text"
      },
      "cell_type": "markdown",
      "source": [
        "Our goal is to use (n_step) number of prior steps to predict the value of a stock for the coming weeks. To do so we split the training data into (n_step) individual data. But, for the current amount of  data we have that is about:\n",
        "\n",
        "$$7109/7  \\approx 1015$$\n",
        "\n",
        "training data. We can increase the number of training data by sliding the  $7$ day steps by one over the entire training data. This will give us enough training data."
      ]
    },
    {
      "metadata": {
        "id": "V_mK0dx5U34M",
        "colab_type": "code",
        "colab": {}
      },
      "cell_type": "code",
      "source": [
        "def batch_data(data, n_step):\n",
        "    length = len(data)\n",
        "    start = 0\n",
        "    x_value, y_value = [], []\n",
        "    for i in range(length):\n",
        "        x_end = start + n_step\n",
        "        y_end = x_end + n_out\n",
        "        if y_end < length:\n",
        "          x_value.append(data[start : x_end, :])\n",
        "          y_value.append(data[x_end:y_end, 0 ])\n",
        "          start += 1\n",
        "    return np.array(x_value), np.array(y_value)"
      ],
      "execution_count": 0,
      "outputs": []
    },
    {
      "metadata": {
        "id": "JOd1Sq2S0jdU",
        "colab_type": "text"
      },
      "cell_type": "markdown",
      "source": [
        "   We are going to build an LSTM layer to take advantage of the sequential nature of the problem. To make the forcasting we use encoder and decoder model. The first layer will be a encoder LSTM with 200 neurons that accepts multi-feature attributes. The output will be a 200 by num_steps vector. We use a RepeatVector to feed to the decoder. The decoder will be feed to a fully connected Dense layer. The time distributed layer allows us to do weight training over the individual timesteps. Finally we feed into a single Dense layer that outputs the values for the **n** days of forecasting"
      ]
    },
    {
      "metadata": {
        "id": "WLKWXtVkXnKa",
        "colab_type": "code",
        "colab": {}
      },
      "cell_type": "code",
      "source": [
        "def build_graph(train, n_input, num_epochs = 20, batch_size = 64, dropout = 0.3,  verbose = False):\n",
        "  x_train, y_train = batch_data(train, n_input)\n",
        "  \n",
        "  \n",
        "  \n",
        "  n_step = x_train.shape[1]\n",
        "  n_features = x_train.shape[2]\n",
        "  n_output = y_train.shape[1]\n",
        "  \n",
        "  y_train = y_train.reshape((y_train.shape[0], y_train.shape[1], 1))\n",
        "  model = Sequential()\n",
        "  model.add(LSTM(200, activation='relu', input_shape=(n_step, n_features)))\n",
        "  model.add(RepeatVector(n_output))\n",
        "  model.add(Dropout(dropout))\n",
        "  model.add(LSTM(200, activation='relu', return_sequences=True))\n",
        "  model.add(Dropout(dropout))\n",
        "  model.add(TimeDistributed(Dense(100, activation='relu',kernel_initializer='random_uniform',\n",
        "                  bias_initializer='zeros')))\n",
        "  \n",
        "  model.add(TimeDistributed(Dense(1, kernel_initializer='random_uniform',\n",
        "                  bias_initializer='zeros')))\n",
        "  #Modify the learning rate\n",
        "  adm = optimizers.Adam(lr=0.0001, beta_1=0.9, beta_2=0.999, epsilon=None, decay=0.0, amsgrad=False)\n",
        "  model.compile(loss='mse', optimizer= adm)\n",
        "  model.fit(x_train, y_train, epochs=num_epochs, batch_size=batch_size, verbose=verbose)\n",
        "  return model"
      ],
      "execution_count": 0,
      "outputs": []
    },
    {
      "metadata": {
        "id": "QF-zwoiCXyhn",
        "colab_type": "code",
        "outputId": "a63e8eeb-c855-44b0-e32c-267ed08ad1f2",
        "colab": {
          "base_uri": "https://localhost:8080/",
          "height": 1057
        }
      },
      "cell_type": "code",
      "source": [
        "model1 = build_graph(train, 7, num_epochs = 30, batch_size = 128, verbose  = False)"
      ],
      "execution_count": 0,
      "outputs": [
        {
          "output_type": "stream",
          "text": [
            "Epoch 1/30\n",
            "7095/7095 [==============================] - 10s 1ms/step - loss: 257.4098\n",
            "Epoch 2/30\n",
            "7095/7095 [==============================] - 7s 1ms/step - loss: 62.2002\n",
            "Epoch 3/30\n",
            "7095/7095 [==============================] - 7s 1ms/step - loss: 24.6271\n",
            "Epoch 4/30\n",
            "7095/7095 [==============================] - 7s 1ms/step - loss: 12.7525\n",
            "Epoch 5/30\n",
            "7095/7095 [==============================] - 8s 1ms/step - loss: 7.7906\n",
            "Epoch 6/30\n",
            "7095/7095 [==============================] - 7s 1ms/step - loss: 6.3998\n",
            "Epoch 7/30\n",
            "7095/7095 [==============================] - 7s 1ms/step - loss: 6.0800\n",
            "Epoch 8/30\n",
            "7095/7095 [==============================] - 7s 1ms/step - loss: 5.6079\n",
            "Epoch 9/30\n",
            "7095/7095 [==============================] - 7s 1ms/step - loss: 5.1663\n",
            "Epoch 10/30\n",
            "7095/7095 [==============================] - 7s 1ms/step - loss: 4.9819\n",
            "Epoch 11/30\n",
            "7095/7095 [==============================] - 7s 1ms/step - loss: 4.8905\n",
            "Epoch 12/30\n",
            "7095/7095 [==============================] - 7s 1ms/step - loss: 4.6369\n",
            "Epoch 13/30\n",
            "7095/7095 [==============================] - 7s 1ms/step - loss: 4.7563\n",
            "Epoch 14/30\n",
            "7095/7095 [==============================] - 8s 1ms/step - loss: 4.1976\n",
            "Epoch 15/30\n",
            "7095/7095 [==============================] - 7s 1ms/step - loss: 4.0850\n",
            "Epoch 16/30\n",
            "7095/7095 [==============================] - 7s 1ms/step - loss: 4.3736\n",
            "Epoch 17/30\n",
            "7095/7095 [==============================] - 7s 1ms/step - loss: 3.8991\n",
            "Epoch 18/30\n",
            "7095/7095 [==============================] - 7s 1ms/step - loss: 3.7607\n",
            "Epoch 19/30\n",
            "7095/7095 [==============================] - 7s 1ms/step - loss: 4.0382\n",
            "Epoch 20/30\n",
            "7095/7095 [==============================] - 7s 1ms/step - loss: 3.7621\n",
            "Epoch 21/30\n",
            "7095/7095 [==============================] - 7s 1ms/step - loss: 3.4133\n",
            "Epoch 22/30\n",
            "7095/7095 [==============================] - 7s 1ms/step - loss: 3.6451\n",
            "Epoch 23/30\n",
            "7095/7095 [==============================] - 7s 1ms/step - loss: 3.3678\n",
            "Epoch 24/30\n",
            "7095/7095 [==============================] - 7s 1ms/step - loss: 3.3702\n",
            "Epoch 25/30\n",
            "7095/7095 [==============================] - 7s 1ms/step - loss: 3.5005\n",
            "Epoch 26/30\n",
            "7095/7095 [==============================] - 7s 1ms/step - loss: 3.3365\n",
            "Epoch 27/30\n",
            "7095/7095 [==============================] - 7s 1ms/step - loss: 2.9636\n",
            "Epoch 28/30\n",
            "7095/7095 [==============================] - 7s 1ms/step - loss: 3.1376\n",
            "Epoch 29/30\n",
            "7095/7095 [==============================] - 7s 1ms/step - loss: 3.0981\n",
            "Epoch 30/30\n",
            "7095/7095 [==============================] - 7s 1ms/step - loss: 3.0009\n"
          ],
          "name": "stdout"
        }
      ]
    },
    {
      "metadata": {
        "id": "5bML61zah1hC",
        "colab_type": "code",
        "outputId": "cd548c32-3421-45c6-a610-2c7dd8ab9236",
        "colab": {
          "base_uri": "https://localhost:8080/",
          "height": 347
        }
      },
      "cell_type": "code",
      "source": [
        "model.summary()"
      ],
      "execution_count": 0,
      "outputs": [
        {
          "output_type": "stream",
          "text": [
            "_________________________________________________________________\n",
            "Layer (type)                 Output Shape              Param #   \n",
            "=================================================================\n",
            "lstm_15 (LSTM)               (None, 200)               163200    \n",
            "_________________________________________________________________\n",
            "repeat_vector_8 (RepeatVecto (None, 7, 200)            0         \n",
            "_________________________________________________________________\n",
            "lstm_16 (LSTM)               (None, 7, 200)            320800    \n",
            "_________________________________________________________________\n",
            "time_distributed_15 (TimeDis (None, 7, 100)            20100     \n",
            "_________________________________________________________________\n",
            "dropout_8 (Dropout)          (None, 7, 100)            0         \n",
            "_________________________________________________________________\n",
            "time_distributed_16 (TimeDis (None, 7, 1)              101       \n",
            "=================================================================\n",
            "Total params: 504,201\n",
            "Trainable params: 504,201\n",
            "Non-trainable params: 0\n",
            "_________________________________________________________________\n"
          ],
          "name": "stdout"
        }
      ]
    },
    {
      "metadata": {
        "id": "Odfxixj3qLq0",
        "colab_type": "code",
        "colab": {}
      },
      "cell_type": "code",
      "source": [
        "#lets see how this model does on the test set\n",
        "#function to forcast prices given prior timesteps\n",
        "def eval(model, prior_value, num_inputs):\n",
        "  values = prior_value[-num_inputs:, :]\n",
        "  \n",
        "  y_pred = model.predict(values)\n",
        "  \n",
        "  return y_pred[0]\n",
        "  "
      ],
      "execution_count": 0,
      "outputs": []
    },
    {
      "metadata": {
        "id": "vqy5OXCHrMRD",
        "colab_type": "code",
        "colab": {}
      },
      "cell_type": "code",
      "source": [
        "#put the test set into 7(num_imputs) timesteps\n",
        "def split_n_interval(test):\n",
        "  test_even = test[:-2, :]\n",
        "  test_val = np.array(np.split(test_even, len(test_even)/7))\n",
        "  return test_val\n",
        "\n",
        "test_val = split_n_interval(test)"
      ],
      "execution_count": 0,
      "outputs": []
    },
    {
      "metadata": {
        "id": "aDRrCcx-t5Z8",
        "colab_type": "code",
        "colab": {}
      },
      "cell_type": "code",
      "source": [
        "def reshape_for_training(data):\n",
        "  return data.reshape(1, data.shape[0], data.shape[1])"
      ],
      "execution_count": 0,
      "outputs": []
    },
    {
      "metadata": {
        "id": "NE8UI-asrvPK",
        "colab_type": "code",
        "colab": {}
      },
      "cell_type": "code",
      "source": [
        "def feed_forward(model, n_input, test_val):\n",
        "  predictions = []\n",
        "  #lets take the prior step from the train state to start of \n",
        "  prior_values = train[-n_input:, :]\n",
        "  for i in range(len(test_val)):\n",
        "    step = reshape_for_training(prior_values[-n_input:, :])\n",
        "    pred = model.predict(step)\n",
        "    \n",
        "    #reshape back to original shape\n",
        "    pred = pred.reshape(pred.shape[0]*pred.shape[1], pred.shape[2])\n",
        "    \n",
        "    predictions.append(pred)\n",
        "    prior_values = np.concatenate((prior_values, test_val[i]), 0)\n",
        "  return np.squeeze(predictions)\n",
        "    "
      ],
      "execution_count": 0,
      "outputs": []
    },
    {
      "metadata": {
        "id": "3pHbAgpqsT4Y",
        "colab_type": "code",
        "colab": {}
      },
      "cell_type": "code",
      "source": [
        "pred1 = np.array(feed_forward(model,  7, test_val)).reshape(-1)"
      ],
      "execution_count": 0,
      "outputs": []
    },
    {
      "metadata": {
        "id": "rYPw8C93stXF",
        "colab_type": "code",
        "outputId": "c355f17a-303c-4c9e-d951-becb761e367d",
        "colab": {
          "base_uri": "https://localhost:8080/",
          "height": 610
        }
      },
      "cell_type": "code",
      "source": [
        "fig, ax = plt.subplots(figsize = (10, 10))\n",
        "plt.plot(test[:, 0], label = 'train_set')\n",
        "plt.plot(pred, label = 'batch_size = {}, dropout = {}, num_epoch = {}'.format(64, 0.1, 20))\n",
        "plt.legend(bbox_to_anchor=(1.05, 1), loc=2, borderaxespad=0.)"
      ],
      "execution_count": 0,
      "outputs": [
        {
          "output_type": "execute_result",
          "data": {
            "text/plain": [
              "<matplotlib.legend.Legend at 0x7f11ced939e8>"
            ]
          },
          "metadata": {
            "tags": []
          },
          "execution_count": 202
        },
        {
          "output_type": "display_data",
          "data": {
            "image/png": "[encoded data removed]",
            "text/plain": [
              "<matplotlib.figure.Figure at 0x7f11cee115f8>"
            ]
          },
          "metadata": {
            "tags": []
          }
        }
      ]
    },
    {
      "metadata": {
        "id": "dFoOnMuD2T0D",
        "colab_type": "code",
        "colab": {}
      },
      "cell_type": "code",
      "source": [
        ""
      ],
      "execution_count": 0,
      "outputs": []
    }
  ]
}